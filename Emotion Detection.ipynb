{
 "cells": [
  {
   "cell_type": "code",
   "execution_count": 1,
   "metadata": {},
   "outputs": [],
   "source": [
    "import tensorflow as tf\n",
    "from tensorflow import keras\n",
    "import numpy as np\n",
    "import matplotlib.pyplot as plt\n",
    "from PIL import Image,ImageDraw,ImageFont\n",
    "from matplotlib import cm"
   ]
  },
  {
   "cell_type": "code",
   "execution_count": 2,
   "metadata": {},
   "outputs": [],
   "source": [
    "#classes dictionary \n",
    "classes_dict={0:'Angry',1:'Disgust',2:'Fear',3:'Happy',4:'Sad',5:'Surprise',6:'Neutral'}"
   ]
  },
  {
   "cell_type": "code",
   "execution_count": 3,
   "metadata": {},
   "outputs": [],
   "source": [
    "#defintion of load_dataset()\n",
    "def load_dataset():\n",
    "    import csv\n",
    "    with  open('C:\\\\Users\\\\Admin\\\\My Projects\\\\Emotion Recognition\\\\dataset\\\\fer2013.csv','r') as f:\n",
    "        data=csv.reader(f)\n",
    "        X=[]\n",
    "        Y=[]\n",
    "        i=1\n",
    "        for row in data:\n",
    "            if i:    #skip first row (header)\n",
    "                i=0\n",
    "                continue    \n",
    "            Y.append(int(row[0]))\n",
    "            X.append([int(n) for n in row[1].split(' ')])\n",
    "    return (np.array(X),np.array(Y))"
   ]
  },
  {
   "cell_type": "code",
   "execution_count": 4,
   "metadata": {},
   "outputs": [
    {
     "name": "stdout",
     "output_type": "stream",
     "text": [
      "(35887, 48, 48, 1) (35887, 1)\n"
     ]
    }
   ],
   "source": [
    "#load dataset from csv file\n",
    "X,Y=load_dataset()\n",
    "\n",
    "#normalizing the data\n",
    "X=X/255\n",
    "\n",
    "#reshape the data\n",
    "X=X.reshape((X.shape[0],48,48,1))\n",
    "Y=Y.reshape(Y.shape+(1,))\n",
    "\n",
    "print(X.shape,Y.shape)"
   ]
  },
  {
   "cell_type": "code",
   "execution_count": 5,
   "metadata": {},
   "outputs": [],
   "source": [
    "#split the dataset into train and test \n",
    "from sklearn.model_selection import train_test_split\n",
    "np.random.seed(0)\n",
    "X_train,X_test,Y_train,Y_test=train_test_split(X,Y,test_size=0.08,random_state=0)"
   ]
  },
  {
   "cell_type": "code",
   "execution_count": 6,
   "metadata": {},
   "outputs": [],
   "source": [
    "#converting the train and test labels into one-hot encoding\n",
    "from tensorflow.keras.utils import to_categorical\n",
    "Y_train_oh=to_categorical(Y_train,len(classes_dict))\n",
    "Y_test_oh=to_categorical(Y_test,len(classes_dict))"
   ]
  },
  {
   "cell_type": "code",
   "execution_count": 7,
   "metadata": {},
   "outputs": [],
   "source": [
    "#definition of create_model()\n",
    "def create_model():\n",
    "    from tensorflow.keras.models import Model\n",
    "    from tensorflow.keras.layers import Input,Conv2D,Dense,BatchNormalization,Activation\n",
    "    from tensorflow.keras.layers import Dropout,MaxPooling2D,AveragePooling2D,Flatten\n",
    "\n",
    "    inputs=Input(shape=(48,48,1))\n",
    "\n",
    "    X=Conv2D(filters=32,kernel_size=(7,7),padding='same')(inputs)\n",
    "    X=BatchNormalization(axis=-1)(X)\n",
    "    X=Activation('relu')(X)\n",
    "    X=MaxPooling2D((2,2))(X)\n",
    "    X=Dropout(.25)(X)\n",
    "\n",
    "    X=Conv2D(filters=64,kernel_size=(3,3),padding='same')(X)\n",
    "    X=BatchNormalization(axis=-1)(X)\n",
    "    X=Activation('relu')(X)\n",
    "    X=MaxPooling2D((2,2))(X)\n",
    "    X=Dropout(.25)(X)\n",
    "\n",
    "    X=Conv2D(filters=128,kernel_size=(3,3),padding='same')(X)\n",
    "    X=BatchNormalization(axis=-1)(X)\n",
    "    X=Activation('relu')(X)\n",
    "    X=MaxPooling2D((2,2))(X)\n",
    "    X=Dropout(.25)(X)  \n",
    "\n",
    "    X=Conv2D(filters=256,kernel_size=(3,3),padding='same')(X)\n",
    "    X=BatchNormalization(axis=-1)(X)\n",
    "    X=Activation('relu')(X)\n",
    "    X=AveragePooling2D((6,6))(X) \n",
    "    X=Dropout(.25)(X)\n",
    "\n",
    "    X=Flatten()(X)\n",
    "    X=Dense(256)(X)\n",
    "    X=BatchNormalization(axis=-1)(X)\n",
    "    X=Activation('relu')(X)\n",
    "    X=Dropout(.25)(X)\n",
    "\n",
    "    X=Dense(128)(X)\n",
    "    X=BatchNormalization(axis=-1)(X)\n",
    "    X=Activation('relu')(X)\n",
    "    X=Dropout(.25)(X)\n",
    "\n",
    "    X=Dense(7,'softmax')(X)\n",
    "\n",
    "    model=Model(inputs=inputs,outputs=X)\n",
    "    return model\n"
   ]
  },
  {
   "cell_type": "code",
   "execution_count": 8,
   "metadata": {},
   "outputs": [
    {
     "name": "stdout",
     "output_type": "stream",
     "text": [
      "model is loaded successfully\n"
     ]
    }
   ],
   "source": [
    "#To train a model, set False to 'load_pretrained_model',otherwise pretrained model would be loaded \n",
    "##i strictly recommend train it on GPU system,otherwise it will take a lot of time,you can use either your GPU system or google\n",
    "#colab with GPU\n",
    "load_pretrained_model=True\n",
    "\n",
    "if load_pretrained_model: \n",
    "    from tensorflow.keras.models import load_model \n",
    "    model=load_model('C:\\\\Users\\\\Admin\\\\My Projects\\\\Emotion Recognition\\\\Model\\\\model.h5')\n",
    "    print('model is loaded successfully')\n",
    "    \n",
    "else:\n",
    "    #create model with 4 conv layers and 2 FC layers\n",
    "    model=create_model() \n",
    "\n",
    "    #compile the model\n",
    "    model.compile(optimizer='adam',loss='categorical_crossentropy',metrics=['accuracy'])\n",
    "\n",
    "    #train the model\n",
    "    num_iterations=114   \n",
    "    model.fit(X_train,Y_train_oh,batch_size=64,epochs=num_iterations,validation_split=0.08,verbose=2)\n",
    "    \n",
    "    #save model  \n",
    "    model.save('C:\\\\Users\\\\Admin\\\\My Projects\\\\Emotion Recognition\\\\Model\\\\Model.h5',save_format='h5')\n",
    "    \n",
    "    print('model is trained and saved successfully')"
   ]
  },
  {
   "cell_type": "code",
   "execution_count": 9,
   "metadata": {},
   "outputs": [
    {
     "name": "stdout",
     "output_type": "stream",
     "text": [
      "2871/2871 [==============================] - 39s 14ms/sample - loss: 1.0629 - accuracy: 0.6660\n",
      "Accuracy =  0.66597\n"
     ]
    }
   ],
   "source": [
    "#evaluate loss and accuracy on test set\n",
    "loss,accuracy=model.evaluate(X_test,Y_test_oh)\n",
    "print('Accuracy = ',accuracy)"
   ]
  },
  {
   "cell_type": "code",
   "execution_count": 10,
   "metadata": {},
   "outputs": [
    {
     "name": "stdout",
     "output_type": "stream",
     "text": [
      "Predicted class: Happy\n",
      "Actual class:  Happy\n"
     ]
    },
    {
     "data": {
      "text/plain": [
       "<matplotlib.image.AxesImage at 0x22a8e71c788>"
      ]
     },
     "execution_count": 10,
     "metadata": {},
     "output_type": "execute_result"
    },
    {
     "data": {
      "image/png": "[encoded data removed]",
      "text/plain": [
       "<Figure size 432x288 with 1 Axes>"
      ]
     },
     "metadata": {
      "needs_background": "light"
     },
     "output_type": "display_data"
    }
   ],
   "source": [
    "#prediction on test data\n",
    "pred=model.predict(X_test)     #pred contain probabilty of each classe for each example\n",
    "pred_class=np.argmax(pred,axis=1)  #one class index value for each example\n",
    "\n",
    "index=0     #you try different index value to show prediction on different test example\n",
    "\n",
    "print('Predicted class:',classes_dict[pred_class[index]])\n",
    "print('Actual class: ',classes_dict[Y_test.squeeze()[index]])\n",
    "plt.imshow(X_test[index].squeeze())"
   ]
  },
  {
   "cell_type": "code",
   "execution_count": 11,
   "metadata": {},
   "outputs": [],
   "source": [
    "#definition of draw_boxes.Instead of this you can use cv2.rectangle() simpler and less interactive one to draw boxes\n",
    "def draw_boxes(image,out_boxes, out_classes, class_names, colors):\n",
    "    \n",
    "    font = ImageFont.truetype(font='C:\\\\Users\\Admin\\\\My Projects\\\\Emotion Recognition\\\\font\\\\FiraMono-Medium.otf',size=np.floor(3e-2 * image.size[1] + 0.5).astype('int32'))\n",
    "    thickness = (image.size[0] + image.size[1]) // 300\n",
    "\n",
    "    for i, c in reversed(list(enumerate(out_classes))):\n",
    "        predicted_class = class_names[c]\n",
    "        box = out_boxes[i]\n",
    "\n",
    "        label = predicted_class\n",
    "\n",
    "        draw = ImageDraw.Draw(image)\n",
    "        label_size = draw.textsize(label, font)\n",
    "\n",
    "        top, left, bottom, right = box\n",
    "        top = max(0, np.floor(top + 0.5).astype('int32'))\n",
    "        left = max(0, np.floor(left + 0.5).astype('int32'))\n",
    "        bottom = min(image.size[1], np.floor(bottom + 0.5).astype('int32'))\n",
    "        right = min(image.size[0], np.floor(right + 0.5).astype('int32'))\n",
    "        #print(label, (left, top), (right, bottom))\n",
    "\n",
    "        if top - label_size[1] >= 0:\n",
    "            text_origin = np.array([left, top - label_size[1]])\n",
    "        else:\n",
    "            text_origin = np.array([left, top + 1])\n",
    "\n",
    "        # My kingdom for a good redistributable image drawing library.\n",
    "        for i in range(thickness):\n",
    "            draw.rectangle([left + i, top + i, right - i, bottom - i], outline=colors[c])\n",
    "        draw.rectangle([tuple(text_origin), tuple(text_origin + label_size)], fill=colors[c])\n",
    "        draw.text(text_origin, label, fill=(0, 0, 0), font=font)\n",
    "        del draw"
   ]
  },
  {
   "cell_type": "code",
   "execution_count": 12,
   "metadata": {},
   "outputs": [],
   "source": [
    "#detect the emotions in single image\n",
    "def Emotion_Detector(img):\n",
    "    gray_img=cv2.cvtColor(img,cv2.COLOR_BGR2GRAY)\n",
    "\n",
    "    #detect faces in frame and return list of lacations of that faces\n",
    "    faces = face_cascade.detectMultiScale(gray_img, scaleFactor=1.05,minNeighbors=20) \n",
    "\n",
    "    if len(faces)>0:\n",
    "            boxes=[]\n",
    "            pred=[]\n",
    "            for (x,y,w,h) in faces:\n",
    "                X=gray_img[y:y+h,x:x+w]\n",
    "                X=cv2.resize(X,(48,48)) \n",
    "                #cv2.imshow('image',X)   \n",
    "                X=X/255\n",
    "                pred.append(model.predict(X.reshape((1,48,48,1))))  #list of probabilities of each classe for each face\n",
    "                boxes.append((y,x,y+h,x+w))       #list contain location of faces\n",
    "\n",
    "            boxes=np.array(boxes)  \n",
    "            pred_classes=np.argmax(np.array(pred).squeeze(axis=1),axis=-1)\n",
    "\n",
    "            img =Image.fromarray(img,'RGB') #convert numpy array object to image object\n",
    "\n",
    "            #locate and label the faces with square box.Instead of this you can use cv2.rectangle() simpler and \n",
    "            #less interactive one to draw boxes \n",
    "            draw_boxes(img,boxes, pred_classes, classes_dict, colors_dict) \n",
    "\n",
    "            img=np.array(img)    #convert image object to array object \n",
    "\n",
    "    cv2.imshow('Emotion Detector',img)\n",
    "    return img"
   ]
  },
  {
   "cell_type": "code",
   "execution_count": 13,
   "metadata": {},
   "outputs": [],
   "source": [
    "def resize_img_if_big(img):\n",
    "    return cv2.resize(img,(int(img.shape[1]/2),int(img.shape[0]/2))) if int(img.shape[1])>1500 else img\n"
   ]
  },
  {
   "cell_type": "code",
   "execution_count": 14,
   "metadata": {},
   "outputs": [
    {
     "name": "stdout",
     "output_type": "stream",
     "text": [
      "choose option to detect emotions \n",
      "1.Realtime Cam \n",
      "2.Image \n",
      "3.Video\n",
      "Enter your choice : 1\n",
      "\n",
      "choose cam \n",
      "1.WebCam \n",
      "2.IP Cam\n",
      "Enter your choice : 1\n",
      "\n",
      "Press q or Q to quit \n"
     ]
    }
   ],
   "source": [
    "## now you can detect the emotions in Realtime Cam,Image and Video depend upon your choice,just run this cell and choose your choice \n",
    "import cv2\n",
    "from tensorflow.keras.models import load_model\n",
    "\n",
    "#colors(BGR) dictionary\n",
    "colors_dict={0:(0,0,255),1:(0,255,255),2:(255,0,255),3:(0,255,0),4:(255,255,0),5:(255,0,0),6:(255,255,255)}\n",
    "\n",
    "#extract face feature\n",
    "face_cascade=cv2.CascadeClassifier('C:\\\\Users\\\\Admin\\\\My Projects\\\\Emotion Recognition\\\\HararCascade\\\\haarcascade_frontalface_default.xml')\n",
    "\n",
    "print('choose option to detect emotions \\n1.Realtime Cam \\n2.Image \\n3.Video')\n",
    "ch=int(input('Enter your choice : '))\n",
    "\n",
    "try:\n",
    "    key=-1\n",
    "    if ch==1:\n",
    "        print('\\nchoose cam \\n1.WebCam \\n2.IP Cam')\n",
    "        ch=int(input('Enter your choice : '))\n",
    "        try:\n",
    "            flag=1\n",
    "            if ch==1:\n",
    "                #create video object\n",
    "                video = cv2.VideoCapture(0)\n",
    "            elif ch==2:    \n",
    "                #create video object\n",
    "                video = cv2.VideoCapture(input('Enter IP Cam url: '))     #IP Cam url like http://192.168.1.100:4343/video\n",
    "            else:\n",
    "                print('\\nYou choosed wrong choice')\n",
    "                flag=0\n",
    "                \n",
    "            if flag:\n",
    "                print('\\nPress q or Q to quit ')\n",
    "                while True:\n",
    "                        check, frame = video.read()\n",
    "                        if check==False or key in [81,113]:\n",
    "                            break\n",
    "                        Emotion_Detector(frame)\n",
    "                        key=cv2.waitKey(1) \n",
    "        finally: \n",
    "            video.release()\n",
    "\n",
    "    elif ch==2:\n",
    "        print('\\nPress any key to quit ')\n",
    "        path=input('Enter Path of your Image : ').replace('\\\\','\\\\\\\\')\n",
    "        image = cv2.imread(path, 1)\n",
    "        if np.size(image)==1:\n",
    "            print('\\nyou may entered wrong path')\n",
    "        else:\n",
    "            image=resize_img_if_big(image)\n",
    "            image=Emotion_Detector(image)\n",
    "            cv2.waitKey(0) \n",
    "\n",
    "    elif ch==3:\n",
    "        path=input('\\nEnter Path of your Video : ').replace('\\\\','\\\\\\\\')\n",
    "        try:\n",
    "            #create video object\n",
    "            video = cv2.VideoCapture(path)\n",
    "            key=-1\n",
    "            while True:\n",
    "                check, frame = video.read()\n",
    "                if check==False or key in [81,113]:\n",
    "                    if not check:\n",
    "                        print('\\nyou may entered wrong path')\n",
    "                    break\n",
    "                print('\\nPress q or Q to quit ')    \n",
    "                frame=resize_img_if_big(frame)\n",
    "                Emotion_Detector(frame)\n",
    "                key=cv2.waitKey(1) \n",
    "        finally: \n",
    "            video.release()\n",
    "    else:\n",
    "        print('\\nYou choosed wrong choice')\n",
    "finally:\n",
    "    cv2.destroyAllWindows()\n",
    "    "
   ]
  },
  {
   "cell_type": "code",
   "execution_count": null,
   "metadata": {},
   "outputs": [],
   "source": [
    "#to save the emotion detected image\n",
    "path='C:\\\\Users\\\\Admin\\\\My Projects\\\\Emotion Recognition\\\\prediction\\\\happy.jpg'\n",
    "if cv2.imwrite(path,image):\n",
    "    print('image is saved successfully')\n",
    "else:\n",
    "    print('image is not saved,enter a proper a path')  "
   ]
  }
 ],
 "metadata": {
  "kernelspec": {
   "display_name": "Python 3",
   "language": "python",
   "name": "python3"
  },
  "language_info": {
   "codemirror_mode": {
    "name": "ipython",
    "version": 3
   },
   "file_extension": ".py",
   "mimetype": "text/x-python",
   "name": "python",
   "nbconvert_exporter": "python",
   "pygments_lexer": "ipython3",
   "version": "3.7.6"
  }
 },
 "nbformat": 4,
 "nbformat_minor": 4
}
